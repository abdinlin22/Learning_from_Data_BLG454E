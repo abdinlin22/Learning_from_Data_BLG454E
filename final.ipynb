{
 "cells": [
  {
   "cell_type": "markdown",
   "metadata": {},
   "source": [
    "**Nazrin Abdinli - 150220925 - Final Exam Computer Assignment**"
   ]
  },
  {
   "cell_type": "code",
   "execution_count": 1,
   "metadata": {},
   "outputs": [],
   "source": [
    "import numpy as np\n",
    "import matplotlib.pyplot as plt\n",
    "from sklearn.model_selection import train_test_split\n",
    "from sklearn.svm import SVC\n",
    "from sklearn.neural_network import MLPClassifier\n",
    "from sklearn.metrics import accuracy_score"
   ]
  },
  {
   "cell_type": "markdown",
   "metadata": {},
   "source": [
    "**Question 4 -  Plotting the data points in D1 and in D2 as separate scatter plots**"
   ]
  },
  {
   "cell_type": "code",
   "execution_count": 8,
   "metadata": {},
   "outputs": [
    {
     "data": {
      "image/png": "[encoded data removed]",
      "text/plain": [
       "<Figure size 864x432 with 2 Axes>"
      ]
     },
     "metadata": {
      "needs_background": "light"
     },
     "output_type": "display_data"
    }
   ],
   "source": [
    "# Linearly separable data\n",
    "np.random.seed(0)\n",
    "X1_class1 = np.random.randn(100, 2) + [2, 2]\n",
    "X1_class2 = np.random.randn(100, 2) + [-2, -2]\n",
    "X1 = np.vstack((X1_class1, X1_class2))\n",
    "y1 = np.hstack((np.ones(100), -1*np.ones(100)))\n",
    "\n",
    "# Linearly non-separable data\n",
    "X2_class1 = np.random.randn(100, 2)\n",
    "X2_class2 = np.random.randn(100, 2) + [1, 1]\n",
    "X2 = np.vstack((X2_class1, X2_class2))\n",
    "y2 = np.hstack((np.ones(100), -1*np.ones(100)))\n",
    "\n",
    "# Creating test sets\n",
    "X1_train, X1_test, y1_train, y1_test = train_test_split(X1, y1, test_size=0.1, stratify=y1, random_state=0)\n",
    "X2_train, X2_test, y2_train, y2_test = train_test_split(X2, y2, test_size=0.1, stratify=y2, random_state=0)\n",
    "\n",
    "# D1 plotting\n",
    "plt.figure(figsize=(12, 6))\n",
    "plt.subplot(1, 2, 1)\n",
    "plt.scatter(X1_class1[:, 0], X1_class1[:, 1], color='red', label='Class 1')\n",
    "plt.scatter(X1_class2[:, 0], X1_class2[:, 1], color='blue', label='Class 2')\n",
    "plt.title('Linearly Separable Data (D1)')\n",
    "plt.legend()\n",
    "\n",
    "# D2 plotting\n",
    "plt.subplot(1, 2, 2)\n",
    "plt.scatter(X2_class1[:, 0], X2_class1[:, 1], color='red', label='Class 1')\n",
    "plt.scatter(X2_class2[:, 0], X2_class2[:, 1], color='blue', label='Class 2')\n",
    "plt.title('Linearly Non-Separable Data (D2)')\n",
    "plt.legend()\n",
    "\n",
    "plt.show()"
   ]
  },
  {
   "cell_type": "markdown",
   "metadata": {},
   "source": [
    "**Question 5 - Implementing the hard-margin SVM and obtaining the results for D1. Reporting your test set results on T1.**"
   ]
  },
  {
   "cell_type": "code",
   "execution_count": 3,
   "metadata": {},
   "outputs": [
    {
     "name": "stdout",
     "output_type": "stream",
     "text": [
      "Hard-Margin SVM accuracy on D1: 100.00%\n",
      "Test set predictions for T1 (SVM): [-1.  1.  1.  1.  1. -1. -1. -1.  1.  1. -1. -1. -1. -1.  1.  1. -1.  1.\n",
      "  1. -1.]\n",
      "True labels for T1 (SVM): [-1.  1.  1.  1.  1. -1. -1. -1.  1.  1. -1. -1. -1. -1.  1.  1. -1.  1.\n",
      "  1. -1.]\n"
     ]
    }
   ],
   "source": [
    "# Training hard-margin SVM on D1\n",
    "hard_margin_svm = SVC(kernel='linear', C=1e10)\n",
    "hard_margin_svm.fit(X1_train, y1_train)\n",
    "y1_predicted = hard_margin_svm.predict(X1_test)\n",
    "accuracy_hard = accuracy_score(y1_test, y1_predicted)\n",
    "\n",
    "print(f\"Hard-Margin SVM accuracy on D1: {accuracy_hard*100:.2f}%\")\n",
    "print(f\"Test set predictions for T1 (SVM): {y1_predicted}\")\n",
    "print(f\"True labels for T1 (SVM): {y1_test}\")"
   ]
  },
  {
   "cell_type": "markdown",
   "metadata": {},
   "source": [
    "**Question 6 - Implementing the soft-margin SVM and obtaining the results for D2. Reporting also your test set results on T2.**"
   ]
  },
  {
   "cell_type": "code",
   "execution_count": 4,
   "metadata": {},
   "outputs": [
    {
     "name": "stdout",
     "output_type": "stream",
     "text": [
      "Soft-Margin SVM accuracy on D2: 80.00%\n",
      "Test set predictions for T2 (SVM): [ 1.  1. -1.  1.  1. -1. -1. -1.  1.  1. -1. -1. -1.  1.  1.  1. -1.  1.\n",
      " -1. -1.]\n",
      "True labels for T2 (SVM): [-1.  1.  1.  1.  1. -1. -1. -1.  1.  1. -1. -1. -1. -1.  1.  1. -1.  1.\n",
      "  1. -1.]\n"
     ]
    }
   ],
   "source": [
    "# Training soft-margin SVM on D2\n",
    "soft_margin_svm = SVC(kernel='linear', C=1.0)\n",
    "soft_margin_svm.fit(X2_train, y2_train)\n",
    "y2_predicted = soft_margin_svm.predict(X2_test)\n",
    "accuracy_soft = accuracy_score(y2_test, y2_predicted)\n",
    "\n",
    "print(f\"Soft-Margin SVM accuracy on D2: {accuracy_soft*100:.2f}%\")\n",
    "print(f\"Test set predictions for T2 (SVM): {y2_predicted}\")\n",
    "print(f\"True labels for T2 (SVM): {y2_test}\")"
   ]
  },
  {
   "cell_type": "markdown",
   "metadata": {},
   "source": [
    "**Question 7 - Implementing a two-layer multi-layer-perceptron (MLP) structure and using it to classify the data points in D1 and D2. Comparing SVM results and MLP results and commenting.**"
   ]
  },
  {
   "cell_type": "code",
   "execution_count": 5,
   "metadata": {},
   "outputs": [
    {
     "name": "stdout",
     "output_type": "stream",
     "text": [
      "MLP accuracy on D1: 100.00%\n",
      "Test set predictions for T1 (MLP): [-1.  1.  1.  1.  1. -1. -1. -1.  1.  1. -1. -1. -1. -1.  1.  1. -1.  1.\n",
      "  1. -1.]\n",
      "True labels for T1: [-1.  1.  1.  1.  1. -1. -1. -1.  1.  1. -1. -1. -1. -1.  1.  1. -1.  1.\n",
      "  1. -1.]\n",
      "MLP accuracy on D2: 75.00%\n",
      "Test set predictions for T2 (MLP): [ 1.  1. -1. -1.  1. -1. -1. -1.  1.  1. -1. -1. -1.  1.  1.  1. -1.  1.\n",
      " -1. -1.]\n",
      "True labels for T2: [-1.  1.  1.  1.  1. -1. -1. -1.  1.  1. -1. -1. -1. -1.  1.  1. -1.  1.\n",
      "  1. -1.]\n"
     ]
    }
   ],
   "source": [
    "# MLP for D1\n",
    "mlp1 = MLPClassifier(hidden_layer_sizes=(10,), max_iter=1000, random_state=0)\n",
    "mlp1.fit(X1_train, y1_train)\n",
    "y1_mlp_predicted = mlp1.predict(X1_test)\n",
    "accuracy_hard_mlp = accuracy_score(y1_test, y1_mlp_predicted)\n",
    "print(f\"MLP accuracy on D1: {accuracy_hard_mlp*100:.2f}%\")\n",
    "print(f\"Test set predictions for T1 (MLP): {y1_mlp_predicted}\")\n",
    "print(f\"True labels for T1: {y1_test}\")\n",
    "\n",
    "# MLP for D2\n",
    "mlp2 = MLPClassifier(hidden_layer_sizes=(10,), max_iter=1000, random_state=0)\n",
    "mlp2.fit(X2_train, y2_train)\n",
    "y2_mlp_predicted = mlp2.predict(X2_test)\n",
    "accuracy_soft_mlp = accuracy_score(y2_test, y2_mlp_predicted)\n",
    "print(f\"MLP accuracy on D2: {accuracy_soft_mlp*100:.2f}%\")\n",
    "print(f\"Test set predictions for T2 (MLP): {y2_mlp_predicted}\")\n",
    "print(f\"True labels for T2: {y2_test}\")"
   ]
  },
  {
   "cell_type": "markdown",
   "metadata": {},
   "source": [
    "**Analyzing**"
   ]
  },
  {
   "cell_type": "code",
   "execution_count": 6,
   "metadata": {},
   "outputs": [
    {
     "name": "stdout",
     "output_type": "stream",
     "text": [
      "Comparison of SVM and MLP results:\n",
      "For D1:\n",
      "Hard-Margin SVM: 100.00%\n",
      "MLP: 100.00%\n",
      "For D2:\n",
      "Soft-Margin SVM: 80.00%\n",
      "MLP: 75.00%\n"
     ]
    }
   ],
   "source": [
    "# Comparison of results\n",
    "print(f\"Comparison of SVM and MLP results:\")\n",
    "print(\"For D1:\")\n",
    "print(f\"Hard-Margin SVM: {accuracy_hard*100:.2f}%\")\n",
    "print(f\"MLP: {accuracy_hard_mlp*100:.2f}%\")\n",
    "print(\"For D2:\")\n",
    "print(f\"Soft-Margin SVM: {accuracy_soft*100:.2f}%\")\n",
    "print(f\"MLP: {accuracy_soft_mlp*100:.2f}%\")"
   ]
  },
  {
   "cell_type": "markdown",
   "metadata": {},
   "source": [
    "**Commenting**\n",
    "\n",
    "For D1(Linearly Separable Data), the Hard-Margin SVM achieved very high accuracy. This is expected because the data is perfectly separable, allowing the SVM to find a hyperplane with a maximum margin that completely separates the classes without any errors. The MLP also achieved high accuracy on this dataset. Despite its capability to learn complex non-linear functions, it effectively learned the linear boundary required for this data.\n",
    "\n",
    "For D2(Linearly Non-Separable Data), the Soft-Margin SVM performed well, though not perfectly. It balances between maximizing the margin and minimizing classification errors, which is suitable for data that is not perfectly separable. The MLP also showed good performance on D2, demonstrating its strength in handling non-linear relationships within the data."
   ]
  }
 ],
 "metadata": {
  "kernelspec": {
   "display_name": "Python 3",
   "language": "python",
   "name": "python3"
  },
  "language_info": {
   "codemirror_mode": {
    "name": "ipython",
    "version": 3
   },
   "file_extension": ".py",
   "mimetype": "text/x-python",
   "name": "python",
   "nbconvert_exporter": "python",
   "pygments_lexer": "ipython3",
   "version": "3.9.5"
  }
 },
 "nbformat": 4,
 "nbformat_minor": 2
}
